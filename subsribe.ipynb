{
 "cells": [
  {
   "cell_type": "code",
   "execution_count": null,
   "metadata": {},
   "outputs": [],
   "source": [
    "import paho.mqtt.client as mqtt\n",
    "\n",
    "\n",
    "def on_connect(client, userdata, flags, rc):  \n",
    "    print(\"Connected with result code {0}\".format(str(rc)))  \n",
    "    client.subscribe(\"IoTAssignment_sahithi\",qos = 1)  \n",
    "\n",
    "\n",
    "def on_message(client, userdata, msg):\n",
    "    print(\"Message received-> \" + msg.topic + \" \" + str(msg.payload))  \n",
    "\n",
    "\n",
    "client = mqtt.Client()\n",
    "client.on_connect = on_connect \n",
    "client.on_message = on_message \n",
    "\n",
    "client.connect('broker.mqttdashboard.com', 1883,100)\n",
    "client.loop_forever()"
   ]
  }
 ],
 "metadata": {
  "kernelspec": {
   "display_name": "Python 3",
   "language": "python",
   "name": "python3"
  },
  "language_info": {
   "codemirror_mode": {
    "name": "ipython",
    "version": 3
   },
   "file_extension": ".py",
   "mimetype": "text/x-python",
   "name": "python",
   "nbconvert_exporter": "python",
   "pygments_lexer": "ipython3",
   "version": "3.8.5"
  }
 },
 "nbformat": 4,
 "nbformat_minor": 4
}
