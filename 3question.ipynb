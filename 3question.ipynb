{
 "cells": [
  {
   "cell_type": "code",
   "execution_count": 1,
   "metadata": {},
   "outputs": [
    {
     "ename": "IndentationError",
     "evalue": "expected an indented block (<ipython-input-1-936e1b49ca12>, line 17)",
     "output_type": "error",
     "traceback": [
      "\u001b[1;36m  File \u001b[1;32m\"<ipython-input-1-936e1b49ca12>\"\u001b[1;36m, line \u001b[1;32m17\u001b[0m\n\u001b[1;33m    dat = instrument.read_register(8000,1,1,False)\u001b[0m\n\u001b[1;37m    ^\u001b[0m\n\u001b[1;31mIndentationError\u001b[0m\u001b[1;31m:\u001b[0m expected an indented block\n"
     ]
    }
   ],
   "source": [
    "import json\n",
    "import minimalmodbus as modbus\n",
    "import serial\n",
    "import os\n",
    "import time\n",
    "\n",
    "instrument = modbus.Instrument('/dev/ttyUSB0',mode = 'rtu',slaveaddress=1,debug = True,close_port_after_each_call=True)\n",
    "instrument.serial.baudrate= 9600\n",
    "instrument.serial.bytesize = 8\n",
    "instrument.serial.parity = serial.PARITY_NONE\n",
    "instrument.serial.stopbits = 1\n",
    "instrument.serial.timeout = 0.05 # seconds\n",
    "\n",
    "\n",
    "\n",
    "def get_value():\n",
    "dat = instrument.read_register(8000,1,1,False)\n",
    "return dat\n",
    "\n",
    "\n",
    "def main():\n",
    "while(1):\n",
    "try :\n",
    "data = get_hum()\n",
    "print(data)\n",
    "except IOError as err:\n",
    "print(err)\n",
    "finally :\n",
    "print(\"Just Print\")\n",
    "\n",
    "\n",
    "time.sleep(1)\n",
    "\n",
    "\n",
    "if __name__ == \"__main__\":\n",
    "main()\n"
   ]
  },
  {
   "cell_type": "code",
   "execution_count": null,
   "metadata": {},
   "outputs": [],
   "source": []
  }
 ],
 "metadata": {
  "kernelspec": {
   "display_name": "Python 3",
   "language": "python",
   "name": "python3"
  },
  "language_info": {
   "codemirror_mode": {
    "name": "ipython",
    "version": 3
   },
   "file_extension": ".py",
   "mimetype": "text/x-python",
   "name": "python",
   "nbconvert_exporter": "python",
   "pygments_lexer": "ipython3",
   "version": "3.8.5"
  }
 },
 "nbformat": 4,
 "nbformat_minor": 4
}
